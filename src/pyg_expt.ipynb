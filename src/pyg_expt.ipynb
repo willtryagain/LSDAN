{
 "cells": [
  {
   "cell_type": "code",
   "execution_count": 1,
   "metadata": {},
   "outputs": [
    {
     "name": "stderr",
     "output_type": "stream",
     "text": [
      "/home/a/anaconda3/envs/graph/lib/python3.10/site-packages/tqdm/auto.py:22: TqdmWarning: IProgress not found. Please update jupyter and ipywidgets. See https://ipywidgets.readthedocs.io/en/stable/user_install.html\n",
      "  from .autonotebook import tqdm as notebook_tqdm\n"
     ]
    }
   ],
   "source": []
  },
  {
   "cell_type": "code",
   "execution_count": 22,
   "metadata": {},
   "outputs": [],
   "source": [
    "import torch\n",
    "import numpy as np\n",
    "\n",
    "\n",
    "from data_loading import parse_data, make_binary\n",
    "\n",
    "\n",
    "class Data:\n",
    "    def __init__(self, x, y_train, y_test, edge_index) -> None:\n",
    "        self.x = x.float()\n",
    "        self.edge_index = edge_index.int()\n",
    "        self.indices = indices\n",
    "        self.y_train = y_train.float()\n",
    "        self.y_test = y_test.float()\n",
    "        \n",
    "    def to(self, device):\n",
    "        self.x = self.x.to(device)\n",
    "        self.y_train = self.y_train.to(device)\n",
    "        self.y_test = self.y_test.to(device)\n",
    "        self.indices = self.indices.to(device)\n",
    "        self.edge_index = self.edge_index.to(device)\n",
    "        return self\n",
    "\n",
    "dataset = 'cora'\n",
    "x_, edge_index_, y_ = parse_data(dataset)\n",
    "num_classes = 1\n",
    "num_node_features = x_.shape[1]\n",
    "indices, y_binary_train, y_binary_test = make_binary(y_, 3, 0.05)\n",
    "data = Data(x_, y_binary_train, y_binary_test, edge_index_)"
   ]
  },
  {
   "cell_type": "code",
   "execution_count": 23,
   "metadata": {},
   "outputs": [
    {
     "data": {
      "text/plain": [
       "torch.float32"
      ]
     },
     "execution_count": 23,
     "metadata": {},
     "output_type": "execute_result"
    }
   ],
   "source": [
    "data.y_train.dtype"
   ]
  },
  {
   "cell_type": "code",
   "execution_count": 25,
   "metadata": {},
   "outputs": [
    {
     "name": "stdout",
     "output_type": "stream",
     "text": [
      "0.6843011975288391\n",
      "0.6833291053771973\n",
      "0.6637474894523621\n",
      "0.6561630368232727\n",
      "0.6273201107978821\n",
      "0.7994579945799457\n"
     ]
    }
   ],
   "source": [
    "import numpy as np\n",
    "import torch\n",
    "import torch.nn as nn\n",
    "import torch.nn.functional as F\n",
    "\n",
    "from torch_geometric.data import Data\n",
    "from torch_geometric.nn import GATConv\n",
    "from torch_geometric.datasets import Planetoid\n",
    "import torch_geometric.transforms as T\n",
    "\n",
    "import matplotlib.pyplot as plt\n",
    "\n",
    "from sklearn.metrics import f1_score \n",
    "\n",
    "from loss import PULoss\n",
    "\n",
    "\n",
    "\n",
    "# name_data = 'Cora'\n",
    "# dataset = Planetoid(root= '', name = name_data)\n",
    "# dataset.transform = T.NormalizeFeatures()\n",
    "\n",
    "\n",
    "# print(f\"Number of Classes in {name_data}:\", num_classes)\n",
    "# print(f\"Number of Node Features in {name_data}:\", num_node_features)\n",
    " \n",
    "\n",
    "nnpu = False\n",
    "\n",
    "class GAT(torch.nn.Module):\n",
    "    def __init__(self):\n",
    "        super(GAT, self).__init__()\n",
    "        self.hid = 8\n",
    "        self.in_head = 8\n",
    "        self.out_head = 1\n",
    "        \n",
    "        # 2개의 GAT layer를 쌓을 것이다.\n",
    "        # ( 2번째 : multi-head attention 사용 )\n",
    "        self.conv1 = GATConv(num_node_features, self.hid, heads=self.in_head, dropout=0.6)\n",
    "        self.conv2 = GATConv(self.hid*self.in_head, num_classes, concat=False,\n",
    "                             heads=self.out_head, dropout=0.6)\n",
    "\n",
    "    def forward(self, data):\n",
    "        x, edge_index = data.x, data.edge_index\n",
    "        #-------------------------------------#\n",
    "        # x : (2708, 1433)\n",
    "        # edge_index : (2, 10556)\n",
    "        #-------------------------------------#\n",
    "        x = F.dropout(x, p=0.6, training=self.training)\n",
    "        x = self.conv1(x, edge_index)\n",
    "        #-------------------------------------#\n",
    "        # x : (2708, 64)\n",
    "        # 64 : hid 차원(8) x head 개수 (8)\n",
    "        #-------------------------------------#\n",
    "        x = F.elu(x)\n",
    "        x = F.dropout(x, p=0.6, training=self.training)\n",
    "        x = self.conv2(x, edge_index)\n",
    "        #-------------------------------------#\n",
    "        # x : (2708, 7)\n",
    "        #-------------------------------------#\n",
    "        return torch.sigmoid(x)        \n",
    "        return F.log_softmax(x, dim=1)\n",
    "\n",
    "device = torch.device('cuda' if torch.cuda.is_available() else 'cpu')\n",
    "\n",
    "model = GAT().to(device)\n",
    "data = data.to(device)\n",
    "optimizer = torch.optim.Adam(model.parameters(), lr=1e-4)  \n",
    "\n",
    "model.train()\n",
    "for epoch in range(500):\n",
    "    model.train()\n",
    "    optimizer.zero_grad()\n",
    "    out = model(data)\n",
    "    # print(out[data.train_mask].squeeze(1).dtype, data.y[data.train_mask].dtype)\n",
    "    criterion = nn.BCELoss()\n",
    "    criterion = PULoss(nnpu=nnpu)\n",
    "    loss = criterion(out[data.indices].squeeze(1), data.y_train[data.indices])\n",
    "    \n",
    "    if epoch%100 == 0:\n",
    "        print(loss.item())\n",
    "    \n",
    "    loss.backward()\n",
    "    optimizer.step()\n",
    "\n",
    "model.eval()\n",
    "output = model(data)\n",
    "\n",
    "pred = torch.where(output < 0.5, torch.tensor(0, device=device), \n",
    "            torch.tensor(1, device=device))\n",
    "\n",
    "f1 = f1_score(data.y_test[data.indices].cpu(), pred[data.indices].cpu())\n",
    "print(f1)"
   ]
  },
  {
   "cell_type": "code",
   "execution_count": 7,
   "metadata": {},
   "outputs": [
    {
     "data": {
      "text/plain": [
       "1433"
      ]
     },
     "execution_count": 7,
     "metadata": {},
     "output_type": "execute_result"
    }
   ],
   "source": [
    "dataset = Planetoid(root= '', name = 'Cora')\n",
    "dataset.num_features"
   ]
  },
  {
   "cell_type": "code",
   "execution_count": 4,
   "metadata": {},
   "outputs": [
    {
     "data": {
      "text/plain": [
       "tensor([[0.7311],\n",
       "        [0.8808],\n",
       "        [0.5000]])"
      ]
     },
     "execution_count": 4,
     "metadata": {},
     "output_type": "execute_result"
    }
   ],
   "source": [
    "a = torch.tensor([[1], [2], [0]])\n",
    "torch.sigmoid(a)\n",
    " "
   ]
  },
  {
   "cell_type": "code",
   "execution_count": 10,
   "metadata": {},
   "outputs": [
    {
     "data": {
      "text/plain": [
       "torch.float32"
      ]
     },
     "execution_count": 10,
     "metadata": {},
     "output_type": "execute_result"
    }
   ],
   "source": [
    "target = torch.empty(3).random_(2)\n",
    "target.dtype"
   ]
  },
  {
   "cell_type": "code",
   "execution_count": null,
   "metadata": {},
   "outputs": [],
   "source": []
  }
 ],
 "metadata": {
  "kernelspec": {
   "display_name": "graph",
   "language": "python",
   "name": "python3"
  },
  "language_info": {
   "codemirror_mode": {
    "name": "ipython",
    "version": 3
   },
   "file_extension": ".py",
   "mimetype": "text/x-python",
   "name": "python",
   "nbconvert_exporter": "python",
   "pygments_lexer": "ipython3",
   "version": "3.10.8 (main, Nov 24 2022, 14:13:03) [GCC 11.2.0]"
  },
  "orig_nbformat": 4,
  "vscode": {
   "interpreter": {
    "hash": "5c5877d94367d2a7661419a78804740fcbcd9ed94f88c4261deaf02b55c2af72"
   }
  }
 },
 "nbformat": 4,
 "nbformat_minor": 2
}
