{
 "cells": [
  {
   "cell_type": "code",
   "execution_count": 1,
   "metadata": {},
   "outputs": [
    {
     "name": "stderr",
     "output_type": "stream",
     "text": [
      "/home/a/anaconda3/envs/graph/lib/python3.10/site-packages/tqdm/auto.py:22: TqdmWarning: IProgress not found. Please update jupyter and ipywidgets. See https://ipywidgets.readthedocs.io/en/stable/user_install.html\n",
      "  from .autonotebook import tqdm as notebook_tqdm\n"
     ]
    }
   ],
   "source": []
  },
  {
   "cell_type": "code",
   "execution_count": 22,
   "metadata": {},
   "outputs": [],
   "source": [
    "import torch\n",
    "import numpy as np\n",
    "\n",
    "\n",
    "from data_loading import parse_data, make_binary\n",
    "\n",
    "\n",
    "class Data:\n",
    "    def __init__(self, x, y_train, y_test, edge_index) -> None:\n",
    "        self.x = x.float()\n",
    "        self.edge_index = edge_index.int()\n",
    "        self.indices = indices\n",
    "        self.y_train = y_train.float()\n",
    "        self.y_test = y_test.float()\n",
    "        \n",
    "    def to(self, device):\n",
    "        self.x = self.x.to(device)\n",
    "        self.y_train = self.y_train.to(device)\n",
    "        self.y_test = self.y_test.to(device)\n",
    "        self.indices = self.indices.to(device)\n",
    "        self.edge_index = self.edge_index.to(device)\n",
    "        return self\n",
    "\n",
    "dataset = 'cora'\n",
    "x_, edge_index_, y_ = parse_data(dataset)\n",
    "num_classes = 1\n",
    "num_node_features = x_.shape[1]\n",
    "indices, y_binary_train, y_binary_test = make_binary(y_, 3, 0.05)\n",
    "data = Data(x_, y_binary_train, y_binary_test, edge_index_)"
   ]
  },
  {
   "cell_type": "code",
   "execution_count": 23,
   "metadata": {},
   "outputs": [
    {
     "data": {
      "text/plain": [
       "torch.float32"
      ]
     },
     "execution_count": 23,
     "metadata": {},
     "output_type": "execute_result"
    }
   ],
   "source": [
    "data.y_train.dtype"
   ]
  },
  {
   "cell_type": "code",
   "execution_count": 25,
   "metadata": {},
   "outputs": [
    {
     "name": "stdout",
     "output_type": "stream",
     "text": [
      "0.6843011975288391\n",
      "0.6833291053771973\n",
      "0.6637474894523621\n",
      "0.6561630368232727\n",
      "0.6273201107978821\n",
      "0.7994579945799457\n"
     ]
    }
   ],
   "source": [
    "import numpy as np\n",
    "import torch\n",
    "import torch.nn as nn\n",
    "import torch.nn.functional as F\n",
    "\n",
    "from torch_geometric.data import Data\n",
    "from torch_geometric.nn import GATConv\n",
    "from torch_geometric.datasets import Planetoid\n",
    "import torch_geometric.transforms as T\n",
    "\n",
    "import matplotlib.pyplot as plt\n",
    "\n",
    "from sklearn.metrics import f1_score \n",
    "\n",
    "from loss import PULoss\n",
    "\n",
    "\n",
    "\n",
    "# name_data = 'Cora'\n",
    "# dataset = Planetoid(root= '', name = name_data)\n",
    "# dataset.transform = T.NormalizeFeatures()\n",
    "\n",
    "\n",
    "# print(f\"Number of Classes in {name_data}:\", num_classes)\n",
    "# print(f\"Number of Node Features in {name_data}:\", num_node_features)\n",
    " \n",
    "\n",
    "nnpu = False\n",
    "\n",
    "class GAT(torch.nn.Module):\n",
    "    def __init__(self):\n",
    "        super(GAT, self).__init__()\n",
    "        self.hid = 8\n",
    "        self.in_head = 8\n",
    "        self.out_head = 1\n",
    "        \n",
    "        # 2개의 GAT layer를 쌓을 것이다.\n",
    "        # ( 2번째 : multi-head attention 사용 )\n",
    "        self.conv1 = GATConv(num_node_features, self.hid, heads=self.in_head, dropout=0.6)\n",
    "        self.conv2 = GATConv(self.hid*self.in_head, num_classes, concat=False,\n",
    "                             heads=self.out_head, dropout=0.6)\n",
    "\n",
    "    def forward(self, data):\n",
    "        x, edge_index = data.x, data.edge_index\n",
    "        #-------------------------------------#\n",
    "        # x : (2708, 1433)\n",
    "        # edge_index : (2, 10556)\n",
    "        #-------------------------------------#\n",
    "        x = F.dropout(x, p=0.6, training=self.training)\n",
    "        x = self.conv1(x, edge_index)\n",
    "        #-------------------------------------#\n",
    "        # x : (2708, 64)\n",
    "        # 64 : hid 차원(8) x head 개수 (8)\n",
    "        #-------------------------------------#\n",
    "        x = F.elu(x)\n",
    "        x = F.dropout(x, p=0.6, training=self.training)\n",
    "        x = self.conv2(x, edge_index)\n",
    "        #-------------------------------------#\n",
    "        # x : (2708, 7)\n",
    "        #-------------------------------------#\n",
    "        return torch.sigmoid(x)        \n",
    "        return F.log_softmax(x, dim=1)\n",
    "\n",
    "device = torch.device('cuda' if torch.cuda.is_available() else 'cpu')\n",
    "\n",
    "model = GAT().to(device)\n",
    "data = data.to(device)\n",
    "optimizer = torch.optim.Adam(model.parameters(), lr=1e-4)  \n",
    "\n",
    "model.train()\n",
    "for epoch in range(500):\n",
    "    model.train()\n",
    "    optimizer.zero_grad()\n",
    "    out = model(data)\n",
    "    # print(out[data.train_mask].squeeze(1).dtype, data.y[data.train_mask].dtype)\n",
    "    criterion = nn.BCELoss()\n",
    "    criterion = PULoss(nnpu=nnpu)\n",
    "    loss = criterion(out[data.indices].squeeze(1), data.y_train[data.indices])\n",
    "    \n",
    "    if epoch%100 == 0:\n",
    "        print(loss.item())\n",
    "    \n",
    "    loss.backward()\n",
    "    optimizer.step()\n",
    "\n",
    "model.eval()\n",
    "output = model(data)\n",
    "\n",
    "pred = torch.where(output < 0.5, torch.tensor(0, device=device), \n",
    "            torch.tensor(1, device=device))\n",
    "\n",
    "f1 = f1_score(data.y_test[data.indices].cpu(), pred[data.indices].cpu())\n",
    "print(f1)"
   ]
  },
  {
   "cell_type": "code",
   "execution_count": 7,
   "metadata": {},
   "outputs": [
    {
     "data": {
      "text/plain": [
       "1433"
      ]
     },
     "execution_count": 7,
     "metadata": {},
     "output_type": "execute_result"
    }
   ],
   "source": [
    "dataset = Planetoid(root= '', name = 'Cora')\n",
    "dataset.num_features"
   ]
  },
  {
   "cell_type": "code",
   "execution_count": 4,
   "metadata": {},
   "outputs": [
    {
     "data": {
      "text/plain": [
       "tensor([[0.7311],\n",
       "        [0.8808],\n",
       "        [0.5000]])"
      ]
     },
     "execution_count": 4,
     "metadata": {},
     "output_type": "execute_result"
    }
   ],
   "source": [
    "a = torch.tensor([[1], [2], [0]])\n",
    "torch.sigmoid(a)\n",
    " "
   ]
  },
  {
   "cell_type": "code",
   "execution_count": 10,
   "metadata": {},
   "outputs": [
    {
     "data": {
      "text/plain": [
       "torch.float32"
      ]
     },
     "execution_count": 10,
     "metadata": {},
     "output_type": "execute_result"
    }
   ],
   "source": [
    "target = torch.empty(3).random_(2)\n",
    "target.dtype"
   ]
  },
  {
   "cell_type": "code",
   "execution_count": 14,
   "metadata": {},
   "outputs": [
    {
     "name": "stdout",
     "output_type": "stream",
     "text": [
      "Epoch: 0, Loss: 0.6768154501914978, F1: 0.0, Accuracy: 0.6979320531757754\n",
      "Epoch: 1, Loss: 0.534628689289093, F1: 0.0, Accuracy: 0.6979320531757754\n",
      "Epoch: 2, Loss: 0.45098885893821716, F1: 0.0, Accuracy: 0.6979320531757754\n",
      "Epoch: 3, Loss: 0.41454342007637024, F1: 0.0, Accuracy: 0.6979320531757754\n",
      "Epoch: 4, Loss: 0.3937392234802246, F1: 0.004878048780487805, Accuracy: 0.6986706056129985\n",
      "Epoch: 5, Loss: 0.38407644629478455, F1: 0.00730816077953715, Accuracy: 0.69903988183161\n",
      "Epoch: 6, Loss: 0.3590630292892456, F1: 0.012150668286755772, Accuracy: 0.6997784342688331\n",
      "Epoch: 7, Loss: 0.336917906999588, F1: 0.03601440576230493, Accuracy: 0.7034711964549483\n",
      "Epoch: 8, Loss: 0.3060283660888672, F1: 0.08430913348946135, Accuracy: 0.7112259970457903\n",
      "Epoch: 9, Loss: 0.2842823266983032, F1: 0.2272727272727273, Accuracy: 0.7363367799113737\n",
      "Epoch: 10, Loss: 0.2638320028781891, F1: 0.3980487804878049, Accuracy: 0.7721565731166913\n",
      "Epoch: 11, Loss: 0.24968835711479187, F1: 0.5871244635193132, Accuracy: 0.8223781388478582\n",
      "Epoch: 12, Loss: 0.24061819911003113, F1: 0.6720128307939053, Accuracy: 0.8489660265878878\n",
      "Epoch: 13, Loss: 0.23577548563480377, F1: 0.7274119448698316, Accuracy: 0.8685376661742984\n",
      "Epoch: 14, Loss: 0.22685255110263824, F1: 0.7707100591715976, Accuracy: 0.8855243722304283\n",
      "Epoch: 15, Loss: 0.21452157199382782, F1: 0.7833698030634575, Accuracy: 0.8903249630723782\n",
      "Epoch: 16, Loss: 0.20447856187820435, F1: 0.7939262472885033, Accuracy: 0.8947562776957164\n",
      "Epoch: 17, Loss: 0.18881449103355408, F1: 0.7982708933717579, Accuracy: 0.896602658788774\n",
      "Epoch: 18, Loss: 0.1758941411972046, F1: 0.8043010752688172, Accuracy: 0.8991875923190547\n",
      "Epoch: 19, Loss: 0.16790303587913513, F1: 0.8017241379310345, Accuracy: 0.8980797636632201\n",
      "Epoch: 20, Loss: 0.14803087711334229, F1: 0.8034433285509326, Accuracy: 0.8988183161004432\n",
      "Epoch: 21, Loss: 0.14492061734199524, F1: 0.807994289793005, Accuracy: 0.9006646971935007\n",
      "Epoch: 22, Loss: 0.1340659260749817, F1: 0.816442239546421, Accuracy: 0.904357459379616\n",
      "Epoch: 23, Loss: 0.11633913964033127, F1: 0.824771287825475, Accuracy: 0.9080502215657311\n",
      "Epoch: 24, Loss: 0.11143751442432404, F1: 0.8340306834030683, Accuracy: 0.9121122599704579\n",
      "Epoch: 25, Loss: 0.0948910266160965, F1: 0.8493150684931507, Accuracy: 0.9187592319054653\n",
      "Epoch: 26, Loss: 0.09028857946395874, F1: 0.8668442077230359, Accuracy: 0.9261447562776958\n",
      "Epoch: 27, Loss: 0.07852233201265335, F1: 0.892604501607717, Accuracy: 0.9383308714918759\n",
      "Epoch: 28, Loss: 0.06648414582014084, F1: 0.8979074191502853, Accuracy: 0.9405465288035451\n",
      "Epoch: 29, Loss: 0.05952589586377144, F1: 0.8992443324937027, Accuracy: 0.9409158050221565\n",
      "Epoch: 30, Loss: 0.05224284157156944, F1: 0.903786468032278, Accuracy: 0.9427621861152142\n",
      "Epoch: 31, Loss: 0.05109488591551781, F1: 0.9051456912585245, Accuracy: 0.9435007385524372\n",
      "Epoch: 32, Loss: 0.047928765416145325, F1: 0.9024999999999999, Accuracy: 0.9423929098966026\n",
      "Epoch: 33, Loss: 0.04270336031913757, F1: 0.9008782936010038, Accuracy: 0.9416543574593796\n",
      "loss increased\n"
     ]
    }
   ],
   "source": []
  },
  {
   "cell_type": "code",
   "execution_count": 2,
   "metadata": {},
   "outputs": [],
   "source": [
    "target = data.y_train\n",
    "\n",
    "positive, unlabelled = target == 1, target == 0\n",
    "loss_func = nn.BCELoss(reduction='none')\n",
    "out = model(data)\n",
    "y_pos = loss_func(out.squeeze(1), torch.ones_like(target)) \n"
   ]
  },
  {
   "cell_type": "code",
   "execution_count": null,
   "metadata": {},
   "outputs": [
    {
     "data": {
      "text/plain": [
       "tensor([0., 1.], device='cuda:0')"
      ]
     },
     "execution_count": 6,
     "metadata": {},
     "output_type": "execute_result"
    }
   ],
   "source": [
    "from torch_geometric.datasets import Planetoid\n",
    "\n",
    "dataset = Planetoid(root='../data', name=\"Cora\")\n",
    "data = dataset[0]\n",
    "class_freq = data.y.bincount().float()\n",
    "max_class = class_freq.argmax() "
   ]
  },
  {
   "cell_type": "code",
   "execution_count": 26,
   "metadata": {},
   "outputs": [
    {
     "data": {
      "text/html": [
       "<div>\n",
       "<style scoped>\n",
       "    .dataframe tbody tr th:only-of-type {\n",
       "        vertical-align: middle;\n",
       "    }\n",
       "\n",
       "    .dataframe tbody tr th {\n",
       "        vertical-align: top;\n",
       "    }\n",
       "\n",
       "    .dataframe thead th {\n",
       "        text-align: right;\n",
       "    }\n",
       "</style>\n",
       "<table border=\"1\" class=\"dataframe\">\n",
       "  <thead>\n",
       "    <tr style=\"text-align: right;\">\n",
       "      <th></th>\n",
       "      <th></th>\n",
       "      <th>f1</th>\n",
       "      <th>acc</th>\n",
       "    </tr>\n",
       "  </thead>\n",
       "  <tbody>\n",
       "    <tr>\n",
       "      <th rowspan=\"2\" valign=\"top\">GCN+NRE</th>\n",
       "      <th>CiteSeer</th>\n",
       "      <td>66.2 +/- 1.1</td>\n",
       "      <td>93.2 +/- 0.2</td>\n",
       "    </tr>\n",
       "    <tr>\n",
       "      <th>Cora</th>\n",
       "      <td>76.7 +/- 0.9</td>\n",
       "      <td>92.7 +/- 0.2</td>\n",
       "    </tr>\n",
       "    <tr>\n",
       "      <th rowspan=\"2\" valign=\"top\">GCN+URE</th>\n",
       "      <th>CiteSeer</th>\n",
       "      <td>42.6 +/- 1.7</td>\n",
       "      <td>90.9 +/- 0.2</td>\n",
       "    </tr>\n",
       "    <tr>\n",
       "      <th>Cora</th>\n",
       "      <td>50.9 +/- 0.8</td>\n",
       "      <td>88.0 +/- 0.1</td>\n",
       "    </tr>\n",
       "  </tbody>\n",
       "</table>\n",
       "</div>"
      ],
      "text/plain": [
       "                            f1           acc\n",
       "GCN+NRE CiteSeer  66.2 +/- 1.1  93.2 +/- 0.2\n",
       "        Cora      76.7 +/- 0.9  92.7 +/- 0.2\n",
       "GCN+URE CiteSeer  42.6 +/- 1.7  90.9 +/- 0.2\n",
       "        Cora      50.9 +/- 0.8  88.0 +/- 0.1"
      ]
     },
     "execution_count": 26,
     "metadata": {},
     "output_type": "execute_result"
    }
   ],
   "source": [
    "# read log.txt \n",
    "\n",
    "import pandas as pd\n",
    "import matplotlib.pyplot as plt\n",
    "\n",
    "\n",
    "known_table = {}\n",
    "\n",
    "known_table[\"GCN+NRE\"] = {\n",
    "    \"CiteSeer\": {\"f1\": \"66.2 +/- 1.1\", \"acc\": \"93.2 +/- 0.2\"},\n",
    "    \"Cora\": {\"f1\": \"76.7 +/- 0.9\", \"acc\": \"92.7 +/- 0.2\"}\n",
    "\n",
    "}\n",
    "\n",
    "known_table[\"GCN+URE\"] = {\n",
    "    \"CiteSeer\": {\"f1\": \"42.6 +/- 1.7\", \"acc\": \"90.9 +/- 0.2\"},\n",
    "     \"Cora\": {\"f1\": \"50.9 +/- 0.8\", \"acc\": \"88.0 +/- 0.1\"}\n",
    "}\n",
    "\n",
    "# dict to dataframe\n",
    "pd.DataFrame.from_dict({(i,j): known_table[i][j] \n",
    "                           for i in known_table.keys() \n",
    "                           for j in known_table[i].keys()},\n",
    "                       orient='index')\n",
    "\n"
   ]
  },
  {
   "cell_type": "code",
   "execution_count": 28,
   "metadata": {},
   "outputs": [
    {
     "name": "stdout",
     "output_type": "stream",
     "text": [
      "{'my_GCN+NRE': {'CiteSeer': {'f1': '65.7 +/- 0.7', 'acc': '89.0 +/- 0.2'}, 'Cora': {'f1': '76.2 +/- 0.6', 'acc': '88.2 +/- 0.3'}}, 'my_GCN+URE': {'CiteSeer': {'f1': '42.6 +/- 2.0', 'acc': '84.5 +/- 0.3'}, 'Cora': {'f1': '50.9 +/- 0.6', 'acc': '80.0 +/- 0.2'}}}\n"
     ]
    },
    {
     "data": {
      "text/html": [
       "<div>\n",
       "<style scoped>\n",
       "    .dataframe tbody tr th:only-of-type {\n",
       "        vertical-align: middle;\n",
       "    }\n",
       "\n",
       "    .dataframe tbody tr th {\n",
       "        vertical-align: top;\n",
       "    }\n",
       "\n",
       "    .dataframe thead th {\n",
       "        text-align: right;\n",
       "    }\n",
       "</style>\n",
       "<table border=\"1\" class=\"dataframe\">\n",
       "  <thead>\n",
       "    <tr style=\"text-align: right;\">\n",
       "      <th></th>\n",
       "      <th></th>\n",
       "      <th>f1</th>\n",
       "      <th>acc</th>\n",
       "    </tr>\n",
       "  </thead>\n",
       "  <tbody>\n",
       "    <tr>\n",
       "      <th rowspan=\"2\" valign=\"top\">GCN+NRE</th>\n",
       "      <th>CiteSeer</th>\n",
       "      <td>66.2 +/- 1.1</td>\n",
       "      <td>93.2 +/- 0.2</td>\n",
       "    </tr>\n",
       "    <tr>\n",
       "      <th>Cora</th>\n",
       "      <td>76.7 +/- 0.9</td>\n",
       "      <td>92.7 +/- 0.2</td>\n",
       "    </tr>\n",
       "    <tr>\n",
       "      <th rowspan=\"2\" valign=\"top\">GCN+URE</th>\n",
       "      <th>CiteSeer</th>\n",
       "      <td>42.6 +/- 1.7</td>\n",
       "      <td>90.9 +/- 0.2</td>\n",
       "    </tr>\n",
       "    <tr>\n",
       "      <th>Cora</th>\n",
       "      <td>50.9 +/- 0.8</td>\n",
       "      <td>88.0 +/- 0.1</td>\n",
       "    </tr>\n",
       "    <tr>\n",
       "      <th rowspan=\"2\" valign=\"top\">my_GCN+NRE</th>\n",
       "      <th>CiteSeer</th>\n",
       "      <td>65.7 +/- 0.7</td>\n",
       "      <td>89.0 +/- 0.2</td>\n",
       "    </tr>\n",
       "    <tr>\n",
       "      <th>Cora</th>\n",
       "      <td>76.2 +/- 0.6</td>\n",
       "      <td>88.2 +/- 0.3</td>\n",
       "    </tr>\n",
       "    <tr>\n",
       "      <th rowspan=\"2\" valign=\"top\">my_GCN+URE</th>\n",
       "      <th>CiteSeer</th>\n",
       "      <td>42.6 +/- 2.0</td>\n",
       "      <td>84.5 +/- 0.3</td>\n",
       "    </tr>\n",
       "    <tr>\n",
       "      <th>Cora</th>\n",
       "      <td>50.9 +/- 0.6</td>\n",
       "      <td>80.0 +/- 0.2</td>\n",
       "    </tr>\n",
       "  </tbody>\n",
       "</table>\n",
       "</div>"
      ],
      "text/plain": [
       "                               f1           acc\n",
       "GCN+NRE    CiteSeer  66.2 +/- 1.1  93.2 +/- 0.2\n",
       "           Cora      76.7 +/- 0.9  92.7 +/- 0.2\n",
       "GCN+URE    CiteSeer  42.6 +/- 1.7  90.9 +/- 0.2\n",
       "           Cora      50.9 +/- 0.8  88.0 +/- 0.1\n",
       "my_GCN+NRE CiteSeer  65.7 +/- 0.7  89.0 +/- 0.2\n",
       "           Cora      76.2 +/- 0.6  88.2 +/- 0.3\n",
       "my_GCN+URE CiteSeer  42.6 +/- 2.0  84.5 +/- 0.3\n",
       "           Cora      50.9 +/- 0.6  80.0 +/- 0.2"
      ]
     },
     "execution_count": 28,
     "metadata": {},
     "output_type": "execute_result"
    }
   ],
   "source": [
    "import os\n",
    "file_list = os.listdir('logs')\n",
    "rows = []\n",
    "\n",
    "my_table = {}\n",
    "\n",
    "\n",
    "model = \"my_GCN\"\n",
    "for file_name in file_list:\n",
    "    file_name = 'logs/' + file_name\n",
    "    df = pd.read_csv(file_name, sep=' ', header=None)\n",
    "    dataset = file_name.split('_')[0].split('/')[1]\n",
    "    nnpu = file_name.split('_')[2][:-4]\n",
    "    \n",
    "    if nnpu == 'True':\n",
    "        nnpu = \"NRE\"\n",
    "    else:\n",
    "        nnpu = \"URE\"\n",
    "\n",
    "    method  = \"{}+{}\".format(model, nnpu)\n",
    "\n",
    "    result_f1 = \"{} +/- {}\".format(round(df[0].mean() * 100, 1), round(df[0].std() * 100, 1))\n",
    "    result_acc = \"{} +/- {}\".format(round(df[1].mean() * 100, 1), round(df[1].std() * 100, 1))\n",
    "\n",
    "    if method not in my_table:\n",
    "        my_table[method] = {\n",
    "            dataset: {\"f1\": result_f1, \"acc\": result_acc}\n",
    "        }\n",
    "    else:\n",
    "        my_table[method][dataset] = {\"f1\": result_f1, \"acc\": result_acc}\n",
    "\n",
    "# sort the dictory by key\n",
    "my_table[\"my_GCN+NRE\"] = {k: my_table[\"my_GCN+NRE\"][k] for k in sorted(my_table[\"my_GCN+NRE\"].keys())}\n",
    "print(my_table)\n",
    "\n",
    "# add my_table to known_table\n",
    "known_table.update(my_table)\n",
    "\n",
    "pd.DataFrame.from_dict({(i, j): known_table[i][j] \n",
    "                           for i in known_table.keys() \n",
    "                           for j in known_table[i].keys()},\n",
    "                       orient='index')"
   ]
  },
  {
   "cell_type": "code",
   "execution_count": 30,
   "metadata": {},
   "outputs": [
    {
     "data": {
      "text/plain": [
       "float"
      ]
     },
     "execution_count": 30,
     "metadata": {},
     "output_type": "execute_result"
    }
   ],
   "source": [
    "l_new = float(\"inf\")\n",
    "prior_new = 0\n",
    "\n",
    "while True:\n",
    "    l, prior = l_new, prior_new\n",
    "    B = LBP(prior, A, P, U)\n",
    "    "
   ]
  },
  {
   "cell_type": "code",
   "execution_count": null,
   "metadata": {},
   "outputs": [],
   "source": []
  }
 ],
 "metadata": {
  "kernelspec": {
   "display_name": "graph",
   "language": "python",
   "name": "python3"
  },
  "language_info": {
   "codemirror_mode": {
    "name": "ipython",
    "version": 3
   },
   "file_extension": ".py",
   "mimetype": "text/x-python",
   "name": "python",
   "nbconvert_exporter": "python",
   "pygments_lexer": "ipython3",
   "version": "3.10.8"
  },
  "orig_nbformat": 4,
  "vscode": {
   "interpreter": {
    "hash": "5c5877d94367d2a7661419a78804740fcbcd9ed94f88c4261deaf02b55c2af72"
   }
  }
 },
 "nbformat": 4,
 "nbformat_minor": 2
}
